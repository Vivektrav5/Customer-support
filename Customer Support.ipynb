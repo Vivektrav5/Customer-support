{
 "cells": [
  {
   "cell_type": "code",
   "execution_count": 1,
   "id": "9b300762",
   "metadata": {},
   "outputs": [],
   "source": [
    " # Importing necessary libraries\n",
    " import pandas as pd\n",
    " import numpy as np\n",
    " import matplotlib.pyplot as plt\n",
    " import seaborn as sns\n",
    " from sklearn.model_selection import train_test_split\n",
    " from sklearn.preprocessing import StandardScaler, LabelEncoder\n",
    " from sklearn.ensemble import RandomForestClassifier\n",
    " from sklearn.metrics import accuracy_score, classification_report, confusion_matrix\n"
   ]
  },
  {
   "cell_type": "code",
   "execution_count": 2,
   "id": "a30e14ad",
   "metadata": {},
   "outputs": [],
   "source": [
    "# Load the dataset\n",
    "\n",
    "data = pd.read_csv('customer_support_tickets.csv')"
   ]
  },
  {
   "cell_type": "code",
   "execution_count": 3,
   "id": "1962b625",
   "metadata": {},
   "outputs": [
    {
     "name": "stdout",
     "output_type": "stream",
     "text": [
      "<class 'pandas.core.frame.DataFrame'>\n",
      "RangeIndex: 8469 entries, 0 to 8468\n",
      "Data columns (total 17 columns):\n",
      " #   Column                        Non-Null Count  Dtype  \n",
      "---  ------                        --------------  -----  \n",
      " 0   Ticket ID                     8469 non-null   int64  \n",
      " 1   Customer Name                 8469 non-null   object \n",
      " 2   Customer Email                8469 non-null   object \n",
      " 3   Customer Age                  8469 non-null   int64  \n",
      " 4   Customer Gender               8469 non-null   object \n",
      " 5   Product Purchased             8469 non-null   object \n",
      " 6   Date of Purchase              8469 non-null   object \n",
      " 7   Ticket Type                   8469 non-null   object \n",
      " 8   Ticket Subject                8469 non-null   object \n",
      " 9   Ticket Description            8469 non-null   object \n",
      " 10  Ticket Status                 8469 non-null   object \n",
      " 11  Resolution                    2769 non-null   object \n",
      " 12  Ticket Priority               8469 non-null   object \n",
      " 13  Ticket Channel                8469 non-null   object \n",
      " 14  First Response Time           5650 non-null   object \n",
      " 15  Time to Resolution            2769 non-null   object \n",
      " 16  Customer Satisfaction Rating  2769 non-null   float64\n",
      "dtypes: float64(1), int64(2), object(14)\n",
      "memory usage: 1.1+ MB\n"
     ]
    }
   ],
   "source": [
    " # Display basic info about the dataset\n",
    " \n",
    " data.info()\n"
   ]
  },
  {
   "cell_type": "code",
   "execution_count": 4,
   "id": "e97c352f",
   "metadata": {},
   "outputs": [],
   "source": [
    "# Data Preprocessing\n",
    " # Handling missing values\n",
    "    \n",
    "data = data.dropna()"
   ]
  },
  {
   "cell_type": "code",
   "execution_count": 5,
   "id": "a868c246",
   "metadata": {},
   "outputs": [],
   "source": [
    "# Encoding categorical variables\n",
    "from sklearn.preprocessing import LabelEncoder\n",
    "\n",
    "label_encoders = {}\n",
    "\n",
    "# Correct indentation for the for loop\n",
    "for column in data.select_dtypes(include=['object']).columns:\n",
    "    label_encoders[column] = LabelEncoder()\n",
    "    data[column] = label_encoders[column].fit_transform(data[column])\n"
   ]
  },
  {
   "cell_type": "code",
   "execution_count": 6,
   "id": "362cc7ef",
   "metadata": {},
   "outputs": [
    {
     "name": "stdout",
     "output_type": "stream",
     "text": [
      "Index(['Ticket ID', 'Customer Name', 'Customer Email', 'Customer Age',\n",
      "       'Customer Gender', 'Product Purchased', 'Date of Purchase',\n",
      "       'Ticket Type', 'Ticket Subject', 'Ticket Description', 'Ticket Status',\n",
      "       'Resolution', 'Ticket Priority', 'Ticket Channel',\n",
      "       'First Response Time', 'Time to Resolution',\n",
      "       'Customer Satisfaction Rating'],\n",
      "      dtype='object')\n"
     ]
    }
   ],
   "source": [
    "# Check the column names in the dataset\n",
    "print(data.columns)\n"
   ]
  },
  {
   "cell_type": "code",
   "execution_count": 7,
   "id": "42a3370b",
   "metadata": {},
   "outputs": [],
   "source": [
    "# Adjusting based on the correct column names\n",
    "\n",
    "X = data.drop(['Ticket ID', 'Customer Satisfaction Rating'], axis=1)\n",
    "y = data['Customer Satisfaction Rating']\n"
   ]
  },
  {
   "cell_type": "code",
   "execution_count": 8,
   "id": "7b52c502",
   "metadata": {},
   "outputs": [],
   "source": [
    " # Splitting the dataset\n",
    "    \n",
    "X_train, X_test, y_train, y_test = train_test_split(X, y, test_size=0.3,\n",
    " random_state=42)"
   ]
  },
  {
   "cell_type": "code",
   "execution_count": 9,
   "id": "0c01dc80",
   "metadata": {},
   "outputs": [],
   "source": [
    "# Feature Scaling\n",
    "\n",
    "scaler = StandardScaler()\n",
    "X_train = scaler.fit_transform(X_train)\n",
    "X_test = scaler.transform(X_test)"
   ]
  },
  {
   "cell_type": "code",
   "execution_count": 10,
   "id": "9287ace4",
   "metadata": {},
   "outputs": [
    {
     "data": {
      "text/html": [
       "<style>#sk-container-id-1 {color: black;background-color: white;}#sk-container-id-1 pre{padding: 0;}#sk-container-id-1 div.sk-toggleable {background-color: white;}#sk-container-id-1 label.sk-toggleable__label {cursor: pointer;display: block;width: 100%;margin-bottom: 0;padding: 0.3em;box-sizing: border-box;text-align: center;}#sk-container-id-1 label.sk-toggleable__label-arrow:before {content: \"▸\";float: left;margin-right: 0.25em;color: #696969;}#sk-container-id-1 label.sk-toggleable__label-arrow:hover:before {color: black;}#sk-container-id-1 div.sk-estimator:hover label.sk-toggleable__label-arrow:before {color: black;}#sk-container-id-1 div.sk-toggleable__content {max-height: 0;max-width: 0;overflow: hidden;text-align: left;background-color: #f0f8ff;}#sk-container-id-1 div.sk-toggleable__content pre {margin: 0.2em;color: black;border-radius: 0.25em;background-color: #f0f8ff;}#sk-container-id-1 input.sk-toggleable__control:checked~div.sk-toggleable__content {max-height: 200px;max-width: 100%;overflow: auto;}#sk-container-id-1 input.sk-toggleable__control:checked~label.sk-toggleable__label-arrow:before {content: \"▾\";}#sk-container-id-1 div.sk-estimator input.sk-toggleable__control:checked~label.sk-toggleable__label {background-color: #d4ebff;}#sk-container-id-1 div.sk-label input.sk-toggleable__control:checked~label.sk-toggleable__label {background-color: #d4ebff;}#sk-container-id-1 input.sk-hidden--visually {border: 0;clip: rect(1px 1px 1px 1px);clip: rect(1px, 1px, 1px, 1px);height: 1px;margin: -1px;overflow: hidden;padding: 0;position: absolute;width: 1px;}#sk-container-id-1 div.sk-estimator {font-family: monospace;background-color: #f0f8ff;border: 1px dotted black;border-radius: 0.25em;box-sizing: border-box;margin-bottom: 0.5em;}#sk-container-id-1 div.sk-estimator:hover {background-color: #d4ebff;}#sk-container-id-1 div.sk-parallel-item::after {content: \"\";width: 100%;border-bottom: 1px solid gray;flex-grow: 1;}#sk-container-id-1 div.sk-label:hover label.sk-toggleable__label {background-color: #d4ebff;}#sk-container-id-1 div.sk-serial::before {content: \"\";position: absolute;border-left: 1px solid gray;box-sizing: border-box;top: 0;bottom: 0;left: 50%;z-index: 0;}#sk-container-id-1 div.sk-serial {display: flex;flex-direction: column;align-items: center;background-color: white;padding-right: 0.2em;padding-left: 0.2em;position: relative;}#sk-container-id-1 div.sk-item {position: relative;z-index: 1;}#sk-container-id-1 div.sk-parallel {display: flex;align-items: stretch;justify-content: center;background-color: white;position: relative;}#sk-container-id-1 div.sk-item::before, #sk-container-id-1 div.sk-parallel-item::before {content: \"\";position: absolute;border-left: 1px solid gray;box-sizing: border-box;top: 0;bottom: 0;left: 50%;z-index: -1;}#sk-container-id-1 div.sk-parallel-item {display: flex;flex-direction: column;z-index: 1;position: relative;background-color: white;}#sk-container-id-1 div.sk-parallel-item:first-child::after {align-self: flex-end;width: 50%;}#sk-container-id-1 div.sk-parallel-item:last-child::after {align-self: flex-start;width: 50%;}#sk-container-id-1 div.sk-parallel-item:only-child::after {width: 0;}#sk-container-id-1 div.sk-dashed-wrapped {border: 1px dashed gray;margin: 0 0.4em 0.5em 0.4em;box-sizing: border-box;padding-bottom: 0.4em;background-color: white;}#sk-container-id-1 div.sk-label label {font-family: monospace;font-weight: bold;display: inline-block;line-height: 1.2em;}#sk-container-id-1 div.sk-label-container {text-align: center;}#sk-container-id-1 div.sk-container {/* jupyter's `normalize.less` sets `[hidden] { display: none; }` but bootstrap.min.css set `[hidden] { display: none !important; }` so we also need the `!important` here to be able to override the default hidden behavior on the sphinx rendered scikit-learn.org. See: https://github.com/scikit-learn/scikit-learn/issues/21755 */display: inline-block !important;position: relative;}#sk-container-id-1 div.sk-text-repr-fallback {display: none;}</style><div id=\"sk-container-id-1\" class=\"sk-top-container\"><div class=\"sk-text-repr-fallback\"><pre>RandomForestClassifier(random_state=42)</pre><b>In a Jupyter environment, please rerun this cell to show the HTML representation or trust the notebook. <br />On GitHub, the HTML representation is unable to render, please try loading this page with nbviewer.org.</b></div><div class=\"sk-container\" hidden><div class=\"sk-item\"><div class=\"sk-estimator sk-toggleable\"><input class=\"sk-toggleable__control sk-hidden--visually\" id=\"sk-estimator-id-1\" type=\"checkbox\" checked><label for=\"sk-estimator-id-1\" class=\"sk-toggleable__label sk-toggleable__label-arrow\">RandomForestClassifier</label><div class=\"sk-toggleable__content\"><pre>RandomForestClassifier(random_state=42)</pre></div></div></div></div></div>"
      ],
      "text/plain": [
       "RandomForestClassifier(random_state=42)"
      ]
     },
     "execution_count": 10,
     "metadata": {},
     "output_type": "execute_result"
    }
   ],
   "source": [
    "# Model Building\n",
    "# Train a Random Forest Classifier\n",
    "\n",
    "rfc = RandomForestClassifier(random_state=42)\n",
    "rfc.fit(X_train, y_train)"
   ]
  },
  {
   "cell_type": "code",
   "execution_count": 11,
   "id": "93f0b5ce",
   "metadata": {},
   "outputs": [],
   "source": [
    "# Predict on the test set\n",
    "\n",
    "y_pred = rfc.predict(X_test)"
   ]
  },
  {
   "cell_type": "code",
   "execution_count": 12,
   "id": "c5f9d133",
   "metadata": {},
   "outputs": [
    {
     "name": "stdout",
     "output_type": "stream",
     "text": [
      "Accuracy: 0.20577617328519857\n",
      "Classification Report:\n",
      "               precision    recall  f1-score   support\n",
      "\n",
      "         1.0       0.17      0.17      0.17       168\n",
      "         2.0       0.24      0.22      0.23       174\n",
      "         3.0       0.24      0.26      0.25       175\n",
      "         4.0       0.19      0.17      0.18       162\n",
      "         5.0       0.18      0.20      0.19       152\n",
      "\n",
      "    accuracy                           0.21       831\n",
      "   macro avg       0.21      0.20      0.20       831\n",
      "weighted avg       0.21      0.21      0.21       831\n",
      "\n",
      "Confusion Matrix:\n",
      " [[29 41 38 27 33]\n",
      " [42 38 34 27 33]\n",
      " [37 23 45 34 36]\n",
      " [31 27 36 28 40]\n",
      " [27 29 36 29 31]]\n"
     ]
    }
   ],
   "source": [
    "# Model Evaluation\n",
    "\n",
    "print(\"Accuracy:\", accuracy_score(y_test, y_pred))\n",
    "print(\"Classification Report:\\n\", classification_report(y_test, y_pred))\n",
    "print(\"Confusion Matrix:\\n\", confusion_matrix(y_test, y_pred))\n",
    " "
   ]
  },
  {
   "cell_type": "code",
   "execution_count": 13,
   "id": "e2ae96ae",
   "metadata": {},
   "outputs": [
    {
     "data": {
      "image/png": "[encoded data removed]",
      "text/plain": [
       "<Figure size 640x480 with 1 Axes>"
      ]
     },
     "metadata": {},
     "output_type": "display_data"
    }
   ],
   "source": [
    "# Visualization of Results\n",
    "# Feature Importance\n",
    "\n",
    "feature_importances = pd.Series(rfc.feature_importances_, index=X.columns)\n",
    "feature_importances.nlargest(10).plot(kind='barh')\n",
    "plt.title('Top 10 Feature Importances')\n",
    "plt.show()"
   ]
  },
  {
   "cell_type": "code",
   "execution_count": 15,
   "id": "fa506a0f",
   "metadata": {},
   "outputs": [
    {
     "name": "stdout",
     "output_type": "stream",
     "text": [
      "Requirement already satisfied: notebook in c:\\users\\vivek\\anaconda3\\lib\\site-packages (6.5.4)\n",
      "Requirement already satisfied: jinja2 in c:\\users\\vivek\\anaconda3\\lib\\site-packages (from notebook) (3.1.3)\n",
      "Requirement already satisfied: tornado>=6.1 in c:\\users\\vivek\\anaconda3\\lib\\site-packages (from notebook) (6.3.3)\n",
      "Requirement already satisfied: pyzmq>=17 in c:\\users\\vivek\\anaconda3\\lib\\site-packages (from notebook) (24.0.1)\n",
      "Requirement already satisfied: argon2-cffi in c:\\users\\vivek\\anaconda3\\lib\\site-packages (from notebook) (21.3.0)\n",
      "Requirement already satisfied: traitlets>=4.2.1 in c:\\users\\vivek\\anaconda3\\lib\\site-packages (from notebook) (5.7.1)\n",
      "Requirement already satisfied: jupyter-core>=4.6.1 in c:\\users\\vivek\\anaconda3\\lib\\site-packages (from notebook) (5.5.0)\n",
      "Requirement already satisfied: jupyter-client>=5.3.4 in c:\\users\\vivek\\anaconda3\\lib\\site-packages (from notebook) (7.4.9)\n",
      "Requirement already satisfied: ipython-genutils in c:\\users\\vivek\\anaconda3\\lib\\site-packages (from notebook) (0.2.0)\n",
      "Requirement already satisfied: nbformat in c:\\users\\vivek\\anaconda3\\lib\\site-packages (from notebook) (5.9.2)\n",
      "Requirement already satisfied: nbconvert>=5 in c:\\users\\vivek\\anaconda3\\lib\\site-packages (from notebook) (7.10.0)\n",
      "Requirement already satisfied: nest-asyncio>=1.5 in c:\\users\\vivek\\anaconda3\\lib\\site-packages (from notebook) (1.6.0)\n",
      "Requirement already satisfied: ipykernel in c:\\users\\vivek\\anaconda3\\lib\\site-packages (from notebook) (6.28.0)\n",
      "Requirement already satisfied: Send2Trash>=1.8.0 in c:\\users\\vivek\\anaconda3\\lib\\site-packages (from notebook) (1.8.2)\n",
      "Requirement already satisfied: terminado>=0.8.3 in c:\\users\\vivek\\anaconda3\\lib\\site-packages (from notebook) (0.17.1)\n",
      "Requirement already satisfied: prometheus-client in c:\\users\\vivek\\anaconda3\\lib\\site-packages (from notebook) (0.14.1)\n",
      "Requirement already satisfied: nbclassic>=0.4.7 in c:\\users\\vivek\\anaconda3\\lib\\site-packages (from notebook) (1.0.0)\n",
      "Requirement already satisfied: entrypoints in c:\\users\\vivek\\anaconda3\\lib\\site-packages (from jupyter-client>=5.3.4->notebook) (0.4)\n",
      "Requirement already satisfied: python-dateutil>=2.8.2 in c:\\users\\vivek\\anaconda3\\lib\\site-packages (from jupyter-client>=5.3.4->notebook) (2.8.2)\n",
      "Requirement already satisfied: platformdirs>=2.5 in c:\\users\\vivek\\anaconda3\\lib\\site-packages (from jupyter-core>=4.6.1->notebook) (3.10.0)\n",
      "Requirement already satisfied: pywin32>=300 in c:\\users\\vivek\\anaconda3\\lib\\site-packages (from jupyter-core>=4.6.1->notebook) (305.1)\n",
      "Requirement already satisfied: jupyter-server>=1.8 in c:\\users\\vivek\\anaconda3\\lib\\site-packages (from nbclassic>=0.4.7->notebook) (2.10.0)\n",
      "Requirement already satisfied: notebook-shim>=0.2.3 in c:\\users\\vivek\\anaconda3\\lib\\site-packages (from nbclassic>=0.4.7->notebook) (0.2.3)\n",
      "Requirement already satisfied: beautifulsoup4 in c:\\users\\vivek\\anaconda3\\lib\\site-packages (from nbconvert>=5->notebook) (4.12.2)\n",
      "Requirement already satisfied: bleach!=5.0.0 in c:\\users\\vivek\\anaconda3\\lib\\site-packages (from nbconvert>=5->notebook) (4.1.0)\n",
      "Requirement already satisfied: defusedxml in c:\\users\\vivek\\anaconda3\\lib\\site-packages (from nbconvert>=5->notebook) (0.7.1)\n",
      "Requirement already satisfied: jupyterlab-pygments in c:\\users\\vivek\\anaconda3\\lib\\site-packages (from nbconvert>=5->notebook) (0.1.2)\n",
      "Requirement already satisfied: markupsafe>=2.0 in c:\\users\\vivek\\anaconda3\\lib\\site-packages (from nbconvert>=5->notebook) (2.1.3)\n",
      "Requirement already satisfied: mistune<4,>=2.0.3 in c:\\users\\vivek\\anaconda3\\lib\\site-packages (from nbconvert>=5->notebook) (2.0.4)\n",
      "Requirement already satisfied: nbclient>=0.5.0 in c:\\users\\vivek\\anaconda3\\lib\\site-packages (from nbconvert>=5->notebook) (0.8.0)\n",
      "Requirement already satisfied: packaging in c:\\users\\vivek\\anaconda3\\lib\\site-packages (from nbconvert>=5->notebook) (23.1)\n",
      "Requirement already satisfied: pandocfilters>=1.4.1 in c:\\users\\vivek\\anaconda3\\lib\\site-packages (from nbconvert>=5->notebook) (1.5.0)\n",
      "Requirement already satisfied: pygments>=2.4.1 in c:\\users\\vivek\\anaconda3\\lib\\site-packages (from nbconvert>=5->notebook) (2.15.1)\n",
      "Requirement already satisfied: tinycss2 in c:\\users\\vivek\\anaconda3\\lib\\site-packages (from nbconvert>=5->notebook) (1.2.1)\n",
      "Requirement already satisfied: fastjsonschema in c:\\users\\vivek\\anaconda3\\lib\\site-packages (from nbformat->notebook) (2.16.2)\n",
      "Requirement already satisfied: jsonschema>=2.6 in c:\\users\\vivek\\anaconda3\\lib\\site-packages (from nbformat->notebook) (4.19.2)\n",
      "Requirement already satisfied: pywinpty>=1.1.0 in c:\\users\\vivek\\anaconda3\\lib\\site-packages (from terminado>=0.8.3->notebook) (2.0.10)\n",
      "Requirement already satisfied: argon2-cffi-bindings in c:\\users\\vivek\\anaconda3\\lib\\site-packages (from argon2-cffi->notebook) (21.2.0)\n",
      "Requirement already satisfied: comm>=0.1.1 in c:\\users\\vivek\\anaconda3\\lib\\site-packages (from ipykernel->notebook) (0.1.2)\n",
      "Requirement already satisfied: debugpy>=1.6.5 in c:\\users\\vivek\\anaconda3\\lib\\site-packages (from ipykernel->notebook) (1.6.7)\n",
      "Requirement already satisfied: ipython>=7.23.1 in c:\\users\\vivek\\anaconda3\\lib\\site-packages (from ipykernel->notebook) (8.20.0)\n",
      "Requirement already satisfied: matplotlib-inline>=0.1 in c:\\users\\vivek\\anaconda3\\lib\\site-packages (from ipykernel->notebook) (0.1.6)\n",
      "Requirement already satisfied: psutil in c:\\users\\vivek\\anaconda3\\lib\\site-packages (from ipykernel->notebook) (5.9.0)\n",
      "Requirement already satisfied: six>=1.9.0 in c:\\users\\vivek\\anaconda3\\lib\\site-packages (from bleach!=5.0.0->nbconvert>=5->notebook) (1.16.0)\n",
      "Requirement already satisfied: webencodings in c:\\users\\vivek\\anaconda3\\lib\\site-packages (from bleach!=5.0.0->nbconvert>=5->notebook) (0.5.1)\n",
      "Requirement already satisfied: decorator in c:\\users\\vivek\\anaconda3\\lib\\site-packages (from ipython>=7.23.1->ipykernel->notebook) (5.1.1)\n",
      "Requirement already satisfied: jedi>=0.16 in c:\\users\\vivek\\anaconda3\\lib\\site-packages (from ipython>=7.23.1->ipykernel->notebook) (0.18.1)\n",
      "Requirement already satisfied: prompt-toolkit<3.1.0,>=3.0.41 in c:\\users\\vivek\\anaconda3\\lib\\site-packages (from ipython>=7.23.1->ipykernel->notebook) (3.0.43)\n",
      "Requirement already satisfied: stack-data in c:\\users\\vivek\\anaconda3\\lib\\site-packages (from ipython>=7.23.1->ipykernel->notebook) (0.2.0)\n",
      "Requirement already satisfied: colorama in c:\\users\\vivek\\anaconda3\\lib\\site-packages (from ipython>=7.23.1->ipykernel->notebook) (0.4.6)\n",
      "Requirement already satisfied: attrs>=22.2.0 in c:\\users\\vivek\\anaconda3\\lib\\site-packages (from jsonschema>=2.6->nbformat->notebook) (23.1.0)\n",
      "Requirement already satisfied: jsonschema-specifications>=2023.03.6 in c:\\users\\vivek\\anaconda3\\lib\\site-packages (from jsonschema>=2.6->nbformat->notebook) (2023.7.1)\n",
      "Requirement already satisfied: referencing>=0.28.4 in c:\\users\\vivek\\anaconda3\\lib\\site-packages (from jsonschema>=2.6->nbformat->notebook) (0.30.2)\n",
      "Requirement already satisfied: rpds-py>=0.7.1 in c:\\users\\vivek\\anaconda3\\lib\\site-packages (from jsonschema>=2.6->nbformat->notebook) (0.10.6)\n",
      "Requirement already satisfied: anyio>=3.1.0 in c:\\users\\vivek\\anaconda3\\lib\\site-packages (from jupyter-server>=1.8->nbclassic>=0.4.7->notebook) (4.2.0)\n",
      "Requirement already satisfied: jupyter-events>=0.6.0 in c:\\users\\vivek\\anaconda3\\lib\\site-packages (from jupyter-server>=1.8->nbclassic>=0.4.7->notebook) (0.8.0)\n",
      "Requirement already satisfied: jupyter-server-terminals in c:\\users\\vivek\\anaconda3\\lib\\site-packages (from jupyter-server>=1.8->nbclassic>=0.4.7->notebook) (0.4.4)\n",
      "Requirement already satisfied: overrides in c:\\users\\vivek\\anaconda3\\lib\\site-packages (from jupyter-server>=1.8->nbclassic>=0.4.7->notebook) (7.4.0)\n",
      "Requirement already satisfied: websocket-client in c:\\users\\vivek\\anaconda3\\lib\\site-packages (from jupyter-server>=1.8->nbclassic>=0.4.7->notebook) (0.58.0)\n",
      "Requirement already satisfied: cffi>=1.0.1 in c:\\users\\vivek\\anaconda3\\lib\\site-packages (from argon2-cffi-bindings->argon2-cffi->notebook) (1.16.0)\n",
      "Requirement already satisfied: soupsieve>1.2 in c:\\users\\vivek\\anaconda3\\lib\\site-packages (from beautifulsoup4->nbconvert>=5->notebook) (2.5)\n",
      "Requirement already satisfied: idna>=2.8 in c:\\users\\vivek\\anaconda3\\lib\\site-packages (from anyio>=3.1.0->jupyter-server>=1.8->nbclassic>=0.4.7->notebook) (3.4)\n",
      "Requirement already satisfied: sniffio>=1.1 in c:\\users\\vivek\\anaconda3\\lib\\site-packages (from anyio>=3.1.0->jupyter-server>=1.8->nbclassic>=0.4.7->notebook) (1.3.0)\n",
      "Requirement already satisfied: pycparser in c:\\users\\vivek\\anaconda3\\lib\\site-packages (from cffi>=1.0.1->argon2-cffi-bindings->argon2-cffi->notebook) (2.21)\n",
      "Requirement already satisfied: parso<0.9.0,>=0.8.0 in c:\\users\\vivek\\anaconda3\\lib\\site-packages (from jedi>=0.16->ipython>=7.23.1->ipykernel->notebook) (0.8.3)\n",
      "Requirement already satisfied: python-json-logger>=2.0.4 in c:\\users\\vivek\\anaconda3\\lib\\site-packages (from jupyter-events>=0.6.0->jupyter-server>=1.8->nbclassic>=0.4.7->notebook) (2.0.7)\n",
      "Requirement already satisfied: pyyaml>=5.3 in c:\\users\\vivek\\anaconda3\\lib\\site-packages (from jupyter-events>=0.6.0->jupyter-server>=1.8->nbclassic>=0.4.7->notebook) (6.0.1)\n",
      "Requirement already satisfied: rfc3339-validator in c:\\users\\vivek\\anaconda3\\lib\\site-packages (from jupyter-events>=0.6.0->jupyter-server>=1.8->nbclassic>=0.4.7->notebook) (0.1.4)\n",
      "Requirement already satisfied: rfc3986-validator>=0.1.1 in c:\\users\\vivek\\anaconda3\\lib\\site-packages (from jupyter-events>=0.6.0->jupyter-server>=1.8->nbclassic>=0.4.7->notebook) (0.1.1)\n",
      "Requirement already satisfied: wcwidth in c:\\users\\vivek\\anaconda3\\lib\\site-packages (from prompt-toolkit<3.1.0,>=3.0.41->ipython>=7.23.1->ipykernel->notebook) (0.2.5)\n",
      "Requirement already satisfied: executing in c:\\users\\vivek\\anaconda3\\lib\\site-packages (from stack-data->ipython>=7.23.1->ipykernel->notebook) (0.8.3)\n",
      "Requirement already satisfied: asttokens in c:\\users\\vivek\\anaconda3\\lib\\site-packages (from stack-data->ipython>=7.23.1->ipykernel->notebook) (2.0.5)\n",
      "Requirement already satisfied: pure-eval in c:\\users\\vivek\\anaconda3\\lib\\site-packages (from stack-data->ipython>=7.23.1->ipykernel->notebook) (0.2.2)\n",
      "Collecting fqdn (from jsonschema[format-nongpl]>=4.18.0->jupyter-events>=0.6.0->jupyter-server>=1.8->nbclassic>=0.4.7->notebook)\n",
      "  Downloading fqdn-1.5.1-py3-none-any.whl.metadata (1.4 kB)\n",
      "Collecting isoduration (from jsonschema[format-nongpl]>=4.18.0->jupyter-events>=0.6.0->jupyter-server>=1.8->nbclassic>=0.4.7->notebook)\n",
      "  Downloading isoduration-20.11.0-py3-none-any.whl.metadata (5.7 kB)\n",
      "Requirement already satisfied: jsonpointer>1.13 in c:\\users\\vivek\\anaconda3\\lib\\site-packages (from jsonschema[format-nongpl]>=4.18.0->jupyter-events>=0.6.0->jupyter-server>=1.8->nbclassic>=0.4.7->notebook) (2.1)\n",
      "Collecting uri-template (from jsonschema[format-nongpl]>=4.18.0->jupyter-events>=0.6.0->jupyter-server>=1.8->nbclassic>=0.4.7->notebook)\n",
      "  Downloading uri_template-1.3.0-py3-none-any.whl.metadata (8.8 kB)\n",
      "Collecting webcolors>=1.11 (from jsonschema[format-nongpl]>=4.18.0->jupyter-events>=0.6.0->jupyter-server>=1.8->nbclassic>=0.4.7->notebook)\n",
      "  Downloading webcolors-24.11.1-py3-none-any.whl.metadata (2.2 kB)\n",
      "Requirement already satisfied: arrow>=0.15.0 in c:\\users\\vivek\\anaconda3\\lib\\site-packages (from isoduration->jsonschema[format-nongpl]>=4.18.0->jupyter-events>=0.6.0->jupyter-server>=1.8->nbclassic>=0.4.7->notebook) (1.2.3)\n",
      "Downloading webcolors-24.11.1-py3-none-any.whl (14 kB)\n",
      "Downloading fqdn-1.5.1-py3-none-any.whl (9.1 kB)\n",
      "Downloading isoduration-20.11.0-py3-none-any.whl (11 kB)\n",
      "Downloading uri_template-1.3.0-py3-none-any.whl (11 kB)\n",
      "Installing collected packages: webcolors, uri-template, fqdn, isoduration\n",
      "Successfully installed fqdn-1.5.1 isoduration-20.11.0 uri-template-1.3.0 webcolors-24.11.1\n",
      "Note: you may need to restart the kernel to use updated packages.\n"
     ]
    }
   ],
   "source": []
  },
  {
   "cell_type": "code",
   "execution_count": null,
   "id": "00401c72",
   "metadata": {},
   "outputs": [],
   "source": []
  }
 ],
 "metadata": {
  "kernelspec": {
   "display_name": "Python 3 (ipykernel)",
   "language": "python",
   "name": "python3"
  },
  "language_info": {
   "codemirror_mode": {
    "name": "ipython",
    "version": 3
   },
   "file_extension": ".py",
   "mimetype": "text/x-python",
   "name": "python",
   "nbconvert_exporter": "python",
   "pygments_lexer": "ipython3",
   "version": "3.11.7"
  }
 },
 "nbformat": 4,
 "nbformat_minor": 5
}
